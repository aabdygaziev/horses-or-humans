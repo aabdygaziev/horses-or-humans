{
 "cells": [
  {
   "cell_type": "code",
   "execution_count": 1,
   "metadata": {},
   "outputs": [],
   "source": [
    "import numpy as np\n",
    "import matplotlib.pyplot as plt\n",
    "import h5py\n",
    "import scipy\n",
    "from PIL import Image\n",
    "from scipy import ndimage\n",
    "import cv2 as cv\n",
    "import os\n",
    "import random\n",
    "\n",
    "%matplotlib inline"
   ]
  },
  {
   "cell_type": "code",
   "execution_count": 2,
   "metadata": {},
   "outputs": [],
   "source": [
    "train_path = 'horse-or-human/train/'\n",
    "test_path = 'horse-or-human/validation/'\n",
    "categories = ['horses','humans']"
   ]
  },
  {
   "cell_type": "code",
   "execution_count": 3,
   "metadata": {},
   "outputs": [
    {
     "name": "stdout",
     "output_type": "stream",
     "text": [
      "# horse images in train set:  500\n",
      "# human images in train set:  527\n",
      "# human images in test set:  128\n",
      "# human images in test set:  128\n"
     ]
    }
   ],
   "source": [
    "#sets\n",
    "print('# horse images in train set: ',len(os.listdir(train_path+categories[0])))\n",
    "print('# human images in train set: ',len(os.listdir(train_path+categories[1])))\n",
    "print('# human images in test set: ',len(os.listdir(test_path+categories[1])))\n",
    "print('# human images in test set: ',len(os.listdir(test_path+categories[1])))"
   ]
  },
  {
   "cell_type": "code",
   "execution_count": 4,
   "metadata": {},
   "outputs": [],
   "source": [
    "horse = Image.open(train_path+categories[0]+'/horse01-0.png')"
   ]
  },
  {
   "cell_type": "code",
   "execution_count": 5,
   "metadata": {},
   "outputs": [
    {
     "data": {
      "text/plain": [
       "300"
      ]
     },
     "execution_count": 5,
     "metadata": {},
     "output_type": "execute_result"
    }
   ],
   "source": [
    "horse.size[1]"
   ]
  },
  {
   "cell_type": "code",
   "execution_count": 15,
   "metadata": {},
   "outputs": [],
   "source": [
    "path = os.path.join(train_path,categories[0])"
   ]
  },
  {
   "cell_type": "code",
   "execution_count": 16,
   "metadata": {},
   "outputs": [],
   "source": [
    "image = cv.imread(train_path+categories[0]+'/horse01-0.png',cv.IMREAD_COLOR)"
   ]
  },
  {
   "cell_type": "code",
   "execution_count": 17,
   "metadata": {},
   "outputs": [],
   "source": [
    "# helper function to create train and test datasets\n",
    "def create_data(dataset_path):\n",
    "    data = []\n",
    "    for category in categories:\n",
    "        path = os.path.join(dataset_path,category)\n",
    "        class_number = categories.index(category)\n",
    "        for img in os.listdir(path):\n",
    "            img_array = cv.imread(os.path.join(path,img),cv.IMREAD_COLOR)\n",
    "            data.append([img_array,class_number])\n",
    "    return data\n",
    "                \n",
    "    "
   ]
  },
  {
   "cell_type": "code",
   "execution_count": 18,
   "metadata": {},
   "outputs": [
    {
     "name": "stdout",
     "output_type": "stream",
     "text": [
      "train data shape:  (1027, 2)\n",
      "test data shape:  (256, 2)\n"
     ]
    }
   ],
   "source": [
    "# creating train,test numpy arrays\n",
    "train = create_data(train_path)\n",
    "test  = create_data(test_path)\n",
    "\n",
    "train = np.asarray(train)\n",
    "test  = np.asanyarray(test)\n",
    "\n",
    "print('train data shape: ',train.shape)\n",
    "print('test data shape: ',test.shape)"
   ]
  },
  {
   "cell_type": "code",
   "execution_count": 19,
   "metadata": {},
   "outputs": [],
   "source": [
    "#suffle the data\n",
    "random.shuffle(train)\n",
    "random.shuffle(test)"
   ]
  },
  {
   "cell_type": "code",
   "execution_count": 20,
   "metadata": {},
   "outputs": [],
   "source": [
    "# labeling\n",
    "X_train = []\n",
    "y_train = []\n",
    "for feature,label in train:\n",
    "    X_train.append(feature)\n",
    "    y_train.append(label)\n",
    "    \n",
    "X_test = []\n",
    "y_test = []\n",
    "for feat, label in test:\n",
    "    X_test.append(feature)\n",
    "    y_test.append(label)\n",
    "    "
   ]
  },
  {
   "cell_type": "code",
   "execution_count": 21,
   "metadata": {},
   "outputs": [
    {
     "name": "stdout",
     "output_type": "stream",
     "text": [
      "X_train shape (1027, 300, 300, 3)\n",
      "y_train shape (1, 1027)\n",
      "X_test shape (256, 300, 300, 3)\n",
      "y_test shape (1, 256)\n"
     ]
    }
   ],
   "source": [
    "# converting intor numpy arrays\n",
    "X_train = np.asarray(X_train)\n",
    "X_test = np.asarray(X_test)\n",
    "y_train = np.asarray(y_train)\n",
    "y_test = np.asarray(y_test)\n",
    "\n",
    "#reshaping labels\n",
    "y_train = np.reshape(y_train,newshape=(1,y_train.shape[0]))\n",
    "y_test = np.reshape(y_test,newshape=(1,y_test.shape[0]))\n",
    "    \n",
    "print('X_train shape', X_train.shape)\n",
    "print('y_train shape', y_train.shape)\n",
    "print('X_test shape', X_test.shape)\n",
    "print('y_test shape', y_test.shape)"
   ]
  },
  {
   "cell_type": "code",
   "execution_count": 22,
   "metadata": {},
   "outputs": [
    {
     "name": "stdout",
     "output_type": "stream",
     "text": [
      "# of training examples:  1027\n",
      "# of testing examples:  256\n",
      "Height/Width of each image:  300\n"
     ]
    }
   ],
   "source": [
    "# number of training examples\n",
    "m_train = X_train.shape[0]\n",
    "# number of test examples\n",
    "m_test = X_test.shape[0]\n",
    "# Height/Width of each pciture\n",
    "n_pixel = X_train.shape[2]\n",
    "\n",
    "print('# of training examples: ',m_train)\n",
    "print('# of testing examples: ',m_test)\n",
    "print('Height/Width of each image: ',n_pixel)\n"
   ]
  },
  {
   "cell_type": "code",
   "execution_count": 23,
   "metadata": {},
   "outputs": [
    {
     "name": "stdout",
     "output_type": "stream",
     "text": [
      "train data new shape:  (270000, 1027)\n",
      "test data new shape:  (270000, 256)\n"
     ]
    }
   ],
   "source": [
    "# reshaping our dateset\n",
    "\n",
    "train_flatten = X_train.reshape(X_train.shape[0],-1).T\n",
    "test_flatten = X_test.reshape(X_test.shape[0],-1).T\n",
    "\n",
    "print('train data new shape: ',train_flatten.shape)\n",
    "print('test data new shape: ',test_flatten.shape)"
   ]
  },
  {
   "cell_type": "code",
   "execution_count": 24,
   "metadata": {},
   "outputs": [],
   "source": [
    "# dataset standardization\n",
    "train_set = train_flatten/255\n",
    "test_set = test_flatten/255"
   ]
  },
  {
   "cell_type": "code",
   "execution_count": 42,
   "metadata": {},
   "outputs": [],
   "source": [
    "class Network(object):\n",
    "    \n",
    "    def __init__(self,sizes):\n",
    "        self.num_layers = len(sizes)\n",
    "        self.sizes = sizes\n",
    "        self.biases = [np.random.randn(y,1) for y in sizes[1:]]\n",
    "        self.weights = [np.random.randn(y,x) for x , y in zip(sizes[:-1], sizes[1:])]\n",
    "        \n",
    "    def feed_forward(self,a):\n",
    "        for a, b in zip(self.biases, self.weights):\n",
    "            a = sigmoid(np.dot(w,a)+b)\n",
    "        return a"
   ]
  },
  {
   "cell_type": "code",
   "execution_count": 41,
   "metadata": {},
   "outputs": [],
   "source": [
    "net = Network([2, 3, 1])"
   ]
  },
  {
   "cell_type": "code",
   "execution_count": 40,
   "metadata": {},
   "outputs": [
    {
     "data": {
      "text/plain": [
       "__main__.Network"
      ]
     },
     "execution_count": 40,
     "metadata": {},
     "output_type": "execute_result"
    }
   ],
   "source": [
    "# sigmoid function\n",
    "def sigmoid(z):\n",
    "    return 1/(1+np.exp(-z))"
   ]
  },
  {
   "cell_type": "code",
   "execution_count": 35,
   "metadata": {},
   "outputs": [],
   "source": [
    "# # initialize parameters\n",
    "\n",
    "# def init_params(n_x,n_h,n_y):\n",
    "#     \"\"\"\n",
    "#     n_x - size of input layer\n",
    "#     n_h - size of hidden layer\n",
    "#     n_y - size of output layer\n",
    "\n",
    "#     \"\"\"\n",
    "#     np.random.seed(1)\n",
    "#     #parameters\n",
    "#     W1 = np.random.randn(n_h,n_x) * 0.01\n",
    "#     b1 = np.zeros((n_h,1))\n",
    "#     W2 = np.random.randn(n_y,n_h) * 0.01\n",
    "#     b2 = np.zeros((n_y,1))\n",
    "    \n",
    "#     parameters = {\"W1\": W1,\n",
    "#                   \"b1\": b1,\n",
    "#                   \"W2\": W2,\n",
    "#                   \"b2\": b2}\n",
    "    \n",
    "#     return parameters\n",
    "    "
   ]
  },
  {
   "cell_type": "code",
   "execution_count": 34,
   "metadata": {},
   "outputs": [],
   "source": [
    "# parameters = init_params(3,2,1)\n",
    "# print(\"W1 = \" + str(parameters[\"W1\"]))\n",
    "# print(\"b1 = \" + str(parameters[\"b1\"]))\n",
    "# print(\"W2 = \" + str(parameters[\"W2\"]))\n",
    "# print(\"b2 = \" + str(parameters[\"b2\"]))"
   ]
  },
  {
   "cell_type": "code",
   "execution_count": 36,
   "metadata": {},
   "outputs": [],
   "source": [
    "# def init_parameters_deep(layer_dims):\n",
    "#     np.random.seed(3)\n",
    "#     parameters = {}\n",
    "#     L = len(layer_dims)\n",
    "#     for l in range(1,L):\n",
    "#          ### START CODE HERE ### (≈ 2 lines of code)\n",
    "#         parameters['W' + str(l)] = np.random.randn(layer_dims[l], layer_dims[l-1]) * 0.01\n",
    "#         parameters['b' + str(l)] = np.zeros((layer_dims[l],1))\n",
    "#         ### END CODE HERE ### assert(parameters['W' + str(l)].shape == (layer_dims[l], layer_dims[l-1]))\n",
    "#         assert(parameters['W' + str(l)].shape == (layer_dims[l], layer_dims[l-1]))\n",
    "#         assert(parameters['b' + str(l)].shape == (layer_dims[l], 1))\n",
    "\n",
    "        \n",
    "#     return parameters"
   ]
  },
  {
   "cell_type": "code",
   "execution_count": 37,
   "metadata": {},
   "outputs": [],
   "source": [
    "# parameters = init_parameters_deep([5,4,3])\n",
    "# print(\"W1 = \" + str(parameters[\"W1\"]))\n",
    "# print(\"b1 = \" + str(parameters[\"b1\"]))\n",
    "# print(\"W2 = \" + str(parameters[\"W2\"]))\n",
    "# print(\"b2 = \" + str(parameters[\"b2\"]))"
   ]
  },
  {
   "cell_type": "code",
   "execution_count": null,
   "metadata": {},
   "outputs": [],
   "source": []
  }
 ],
 "metadata": {
  "kernelspec": {
   "display_name": "Python 3",
   "language": "python",
   "name": "python3"
  },
  "language_info": {
   "codemirror_mode": {
    "name": "ipython",
    "version": 3
   },
   "file_extension": ".py",
   "mimetype": "text/x-python",
   "name": "python",
   "nbconvert_exporter": "python",
   "pygments_lexer": "ipython3",
   "version": "3.7.7"
  }
 },
 "nbformat": 4,
 "nbformat_minor": 4
}
