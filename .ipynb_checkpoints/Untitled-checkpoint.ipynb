{
 "cells": [
  {
   "cell_type": "code",
   "execution_count": 8,
   "metadata": {},
   "outputs": [],
   "source": [
    "import numpy as np\n",
    "import matplotlib.pyplot as plt\n",
    "import h5py\n",
    "import scipy\n",
    "from PIL import Image\n",
    "from scipy import ndimage\n",
    "import cv2 as cv\n",
    "import os\n",
    "\n",
    "%matplotlib inline"
   ]
  },
  {
   "cell_type": "code",
   "execution_count": 9,
   "metadata": {},
   "outputs": [],
   "source": [
    "train_path = 'horse-or-human/train/'\n",
    "test_path = 'horse-or-human/validation/'\n",
    "categories = ['horses','humans']"
   ]
  },
  {
   "cell_type": "code",
   "execution_count": 10,
   "metadata": {},
   "outputs": [
    {
     "name": "stdout",
     "output_type": "stream",
     "text": [
      "# horse images in train set:  500\n",
      "# human images in train set:  527\n",
      "# human images in test set:  128\n",
      "# human images in test set:  128\n"
     ]
    }
   ],
   "source": [
    "#sets\n",
    "print('# horse images in train set: ',len(os.listdir(train_path+categories[0])))\n",
    "print('# human images in train set: ',len(os.listdir(train_path+categories[1])))\n",
    "print('# human images in test set: ',len(os.listdir(test_path+categories[1])))\n",
    "print('# human images in test set: ',len(os.listdir(test_path+categories[1])))"
   ]
  },
  {
   "cell_type": "code",
   "execution_count": 11,
   "metadata": {},
   "outputs": [],
   "source": [
    "horse = Image.open(train_path+categories[0]+'/horse01-0.png')"
   ]
  },
  {
   "cell_type": "code",
   "execution_count": 12,
   "metadata": {},
   "outputs": [
    {
     "data": {
      "text/plain": [
       "300"
      ]
     },
     "execution_count": 12,
     "metadata": {},
     "output_type": "execute_result"
    }
   ],
   "source": [
    "horse.size[1]"
   ]
  },
  {
   "cell_type": "code",
   "execution_count": 13,
   "metadata": {},
   "outputs": [],
   "source": [
    "path = os.path.join(train_path,categories[0])"
   ]
  },
  {
   "cell_type": "code",
   "execution_count": 14,
   "metadata": {},
   "outputs": [],
   "source": [
    "image = cv.imread(train_path+categories[0]+'/horse01-0.png',cv.IMREAD_COLOR)"
   ]
  },
  {
   "cell_type": "code",
   "execution_count": 22,
   "metadata": {},
   "outputs": [],
   "source": [
    "# helper function to create train and test datasets\n",
    "def create_data(dataset_path):\n",
    "    data = []\n",
    "    for category in categories:\n",
    "        path = os.path.join(dataset_path,category)\n",
    "        class_number = categories.index(category)\n",
    "        for img in os.listdir(path):\n",
    "            img_array = cv.imread(os.path.join(path,img),cv.IMREAD_COLOR)\n",
    "            data.append(img_array)\n",
    "    return data\n",
    "                \n",
    "    "
   ]
  },
  {
   "cell_type": "code",
   "execution_count": 23,
   "metadata": {},
   "outputs": [
    {
     "name": "stdout",
     "output_type": "stream",
     "text": [
      "train data shape:  (1027, 300, 300, 3)\n",
      "test data shape:  (256, 300, 300, 3)\n"
     ]
    }
   ],
   "source": [
    "# creating train,test numpy arrays\n",
    "train = create_data(train_path)\n",
    "test  = create_data(test_path)\n",
    "\n",
    "train = np.asarray(train)\n",
    "test  = np.asanyarray(test)\n",
    "\n",
    "print('train data shape: ',train.shape)\n",
    "print('test data shape: ',test.shape)"
   ]
  },
  {
   "cell_type": "code",
   "execution_count": 24,
   "metadata": {},
   "outputs": [
    {
     "name": "stdout",
     "output_type": "stream",
     "text": [
      "# of training examples:  1027\n",
      "# of testing examples:  256\n",
      "Height/Width of each image:  300\n"
     ]
    }
   ],
   "source": [
    "# number of training examples\n",
    "m_train = train.shape[0]\n",
    "# number of test examples\n",
    "m_test = test.shape[0]\n",
    "# Height/Width of each pciture\n",
    "n_pixel = train.shape[2]\n",
    "\n",
    "print('# of training examples: ',m_train)\n",
    "print('# of testing examples: ',m_test)\n",
    "print('Height/Width of each image: ',n_pixel)\n"
   ]
  },
  {
   "cell_type": "code",
   "execution_count": 26,
   "metadata": {},
   "outputs": [
    {
     "name": "stdout",
     "output_type": "stream",
     "text": [
      "train data new shape:  (270000, 1027)\n",
      "test data new shape:  (270000, 256)\n"
     ]
    }
   ],
   "source": [
    "# reshaping our dateset\n",
    "\n",
    "train_flatten = train.reshape(train.shape[0],-1).T\n",
    "test_flatten = test.reshape(test.shape[0],-1).T\n",
    "\n",
    "print('train data new shape: ',train_flatten.shape)\n",
    "print('test data new shape: ',test_flatten.shape)"
   ]
  },
  {
   "cell_type": "code",
   "execution_count": null,
   "metadata": {},
   "outputs": [],
   "source": []
  }
 ],
 "metadata": {
  "kernelspec": {
   "display_name": "Python 3",
   "language": "python",
   "name": "python3"
  },
  "language_info": {
   "codemirror_mode": {
    "name": "ipython",
    "version": 3
   },
   "file_extension": ".py",
   "mimetype": "text/x-python",
   "name": "python",
   "nbconvert_exporter": "python",
   "pygments_lexer": "ipython3",
   "version": "3.7.7"
  }
 },
 "nbformat": 4,
 "nbformat_minor": 4
}
