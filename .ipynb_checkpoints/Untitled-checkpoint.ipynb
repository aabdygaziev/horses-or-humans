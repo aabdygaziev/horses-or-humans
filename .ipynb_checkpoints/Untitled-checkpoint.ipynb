{
 "cells": [
  {
   "cell_type": "code",
   "execution_count": 28,
   "metadata": {},
   "outputs": [],
   "source": [
    "import numpy as np\n",
    "import matplotlib.pyplot as plt\n",
    "import h5py\n",
    "import scipy\n",
    "from PIL import Image\n",
    "from scipy import ndimage\n",
    "import cv2 as cv\n",
    "import os\n",
    "import random\n",
    "\n",
    "%matplotlib inline"
   ]
  },
  {
   "cell_type": "code",
   "execution_count": 9,
   "metadata": {},
   "outputs": [],
   "source": [
    "train_path = 'horse-or-human/train/'\n",
    "test_path = 'horse-or-human/validation/'\n",
    "categories = ['horses','humans']"
   ]
  },
  {
   "cell_type": "code",
   "execution_count": 10,
   "metadata": {},
   "outputs": [
    {
     "name": "stdout",
     "output_type": "stream",
     "text": [
      "# horse images in train set:  500\n",
      "# human images in train set:  527\n",
      "# human images in test set:  128\n",
      "# human images in test set:  128\n"
     ]
    }
   ],
   "source": [
    "#sets\n",
    "print('# horse images in train set: ',len(os.listdir(train_path+categories[0])))\n",
    "print('# human images in train set: ',len(os.listdir(train_path+categories[1])))\n",
    "print('# human images in test set: ',len(os.listdir(test_path+categories[1])))\n",
    "print('# human images in test set: ',len(os.listdir(test_path+categories[1])))"
   ]
  },
  {
   "cell_type": "code",
   "execution_count": 11,
   "metadata": {},
   "outputs": [],
   "source": [
    "horse = Image.open(train_path+categories[0]+'/horse01-0.png')"
   ]
  },
  {
   "cell_type": "code",
   "execution_count": 12,
   "metadata": {},
   "outputs": [
    {
     "data": {
      "text/plain": [
       "300"
      ]
     },
     "execution_count": 12,
     "metadata": {},
     "output_type": "execute_result"
    }
   ],
   "source": [
    "horse.size[1]"
   ]
  },
  {
   "cell_type": "code",
   "execution_count": 13,
   "metadata": {},
   "outputs": [],
   "source": [
    "path = os.path.join(train_path,categories[0])"
   ]
  },
  {
   "cell_type": "code",
   "execution_count": 14,
   "metadata": {},
   "outputs": [],
   "source": [
    "image = cv.imread(train_path+categories[0]+'/horse01-0.png',cv.IMREAD_COLOR)"
   ]
  },
  {
   "cell_type": "code",
   "execution_count": 35,
   "metadata": {},
   "outputs": [],
   "source": [
    "# helper function to create train and test datasets\n",
    "def create_data(dataset_path):\n",
    "    data = []\n",
    "    for category in categories:\n",
    "        path = os.path.join(dataset_path,category)\n",
    "        class_number = categories.index(category)\n",
    "        for img in os.listdir(path):\n",
    "            img_array = cv.imread(os.path.join(path,img),cv.IMREAD_COLOR)\n",
    "            data.append([img_array,class_number])\n",
    "    return data\n",
    "                \n",
    "    "
   ]
  },
  {
   "cell_type": "code",
   "execution_count": 36,
   "metadata": {},
   "outputs": [
    {
     "name": "stdout",
     "output_type": "stream",
     "text": [
      "train data shape:  (1027, 2)\n",
      "test data shape:  (256, 2)\n"
     ]
    }
   ],
   "source": [
    "# creating train,test numpy arrays\n",
    "train = create_data(train_path)\n",
    "test  = create_data(test_path)\n",
    "\n",
    "train = np.asarray(train)\n",
    "test  = np.asanyarray(test)\n",
    "\n",
    "print('train data shape: ',train.shape)\n",
    "print('test data shape: ',test.shape)"
   ]
  },
  {
   "cell_type": "code",
   "execution_count": 37,
   "metadata": {},
   "outputs": [],
   "source": [
    "#suffle the data\n",
    "random.shuffle(train)\n",
    "random.shuffle(test)"
   ]
  },
  {
   "cell_type": "code",
   "execution_count": 48,
   "metadata": {},
   "outputs": [],
   "source": [
    "# labeling\n",
    "X_train = []\n",
    "y_train = []\n",
    "for feature,label in train:\n",
    "    X_train.append(feature)\n",
    "    y_train.append(label)\n",
    "    \n",
    "X_test = []\n",
    "y_test = []\n",
    "for feat, label in test:\n",
    "    X_test.append(feature)\n",
    "    y_test.append(label)\n",
    "    "
   ]
  },
  {
   "cell_type": "code",
   "execution_count": 49,
   "metadata": {},
   "outputs": [
    {
     "name": "stdout",
     "output_type": "stream",
     "text": [
      "X_train shape (1027, 300, 300, 3)\n",
      "y_train shape (1, 1027)\n",
      "X_test shape (256, 300, 300, 3)\n",
      "y_test shape (1, 256)\n"
     ]
    }
   ],
   "source": [
    "# converting intor numpy arrays\n",
    "X_train = np.asarray(X_train)\n",
    "X_test = np.asarray(X_test)\n",
    "y_train = np.asarray(y_train)\n",
    "y_test = np.asarray(y_test)\n",
    "\n",
    "#reshaping labels\n",
    "y_train = np.reshape(y_train,newshape=(1,y_train.shape[0]))\n",
    "y_test = np.reshape(y_test,newshape=(1,y_test.shape[0]))\n",
    "    \n",
    "print('X_train shape', X_train.shape)\n",
    "print('y_train shape', y_train.shape)\n",
    "print('X_test shape', X_test.shape)\n",
    "print('y_test shape', y_test.shape)"
   ]
  },
  {
   "cell_type": "code",
   "execution_count": 42,
   "metadata": {},
   "outputs": [
    {
     "name": "stdout",
     "output_type": "stream",
     "text": [
      "# of training examples:  1027\n",
      "# of testing examples:  256\n",
      "Height/Width of each image:  300\n"
     ]
    }
   ],
   "source": [
    "# number of training examples\n",
    "m_train = X_train.shape[0]\n",
    "# number of test examples\n",
    "m_test = X_test.shape[0]\n",
    "# Height/Width of each pciture\n",
    "n_pixel = X_train.shape[2]\n",
    "\n",
    "print('# of training examples: ',m_train)\n",
    "print('# of testing examples: ',m_test)\n",
    "print('Height/Width of each image: ',n_pixel)\n"
   ]
  },
  {
   "cell_type": "code",
   "execution_count": 50,
   "metadata": {},
   "outputs": [
    {
     "name": "stdout",
     "output_type": "stream",
     "text": [
      "train data new shape:  (270000, 1027)\n",
      "test data new shape:  (270000, 256)\n"
     ]
    }
   ],
   "source": [
    "# reshaping our dateset\n",
    "\n",
    "train_flatten = X_train.reshape(X_train.shape[0],-1).T\n",
    "test_flatten = X_test.reshape(X_test.shape[0],-1).T\n",
    "\n",
    "print('train data new shape: ',train_flatten.shape)\n",
    "print('test data new shape: ',test_flatten.shape)"
   ]
  },
  {
   "cell_type": "code",
   "execution_count": 51,
   "metadata": {},
   "outputs": [],
   "source": [
    "# dataset standardization\n",
    "train_set = train_flatten/255\n",
    "test_set = test_flatten/255"
   ]
  },
  {
   "cell_type": "code",
   "execution_count": null,
   "metadata": {},
   "outputs": [],
   "source": []
  }
 ],
 "metadata": {
  "kernelspec": {
   "display_name": "Python 3",
   "language": "python",
   "name": "python3"
  },
  "language_info": {
   "codemirror_mode": {
    "name": "ipython",
    "version": 3
   },
   "file_extension": ".py",
   "mimetype": "text/x-python",
   "name": "python",
   "nbconvert_exporter": "python",
   "pygments_lexer": "ipython3",
   "version": "3.7.7"
  }
 },
 "nbformat": 4,
 "nbformat_minor": 4
}
